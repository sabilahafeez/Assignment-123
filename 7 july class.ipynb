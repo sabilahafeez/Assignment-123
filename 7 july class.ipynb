{
 "cells": [
  {
   "cell_type": "markdown",
   "metadata": {},
   "source": [
    "# keyword arguments"
   ]
  },
  {
   "cell_type": "code",
   "execution_count": null,
   "metadata": {},
   "outputs": [],
   "source": [
    "def car(model,year):\n",
    "    print(model,year)"
   ]
  },
  {
   "cell_type": "code",
   "execution_count": null,
   "metadata": {},
   "outputs": [],
   "source": [
    "car(\"corolla\",2019)"
   ]
  },
  {
   "cell_type": "code",
   "execution_count": null,
   "metadata": {},
   "outputs": [],
   "source": [
    "car(2019,\"corolla\")"
   ]
  },
  {
   "cell_type": "code",
   "execution_count": null,
   "metadata": {},
   "outputs": [],
   "source": [
    "car(year = 2019,model = \"toyota\")"
   ]
  },
  {
   "cell_type": "code",
   "execution_count": null,
   "metadata": {},
   "outputs": [],
   "source": [
    "def name (fname,lname):\n",
    "    print(f\"first name: {fname}\")\n",
    "    print(f\"last name :{lname}\")"
   ]
  },
  {
   "cell_type": "code",
   "execution_count": null,
   "metadata": {},
   "outputs": [],
   "source": [
    "name(\"hussain\",\"ali\")"
   ]
  },
  {
   "cell_type": "code",
   "execution_count": null,
   "metadata": {},
   "outputs": [],
   "source": [
    "name(fname = \"sabila\", lname = \"fatima\")"
   ]
  },
  {
   "cell_type": "code",
   "execution_count": null,
   "metadata": {},
   "outputs": [],
   "source": [
    "name(lname = \"fatima\", fname = \"sabila\") #ab yeh keywoed argument hai sequence different b ho it doesnot matter q k kyes assign kardi hain"
   ]
  },
  {
   "cell_type": "code",
   "execution_count": null,
   "metadata": {},
   "outputs": [],
   "source": [
    "def name(fname,lname,mname):\n",
    "    print(f\"first name :{fname}\")\n",
    "    print(f\"middle name :{mname}\")\n",
    "    print(f\"last name:{lname}\")"
   ]
  },
  {
   "cell_type": "code",
   "execution_count": null,
   "metadata": {},
   "outputs": [],
   "source": [
    "name(\"john\",\"smith\",mname =\"walton\" ) #keyword positional k baad"
   ]
  },
  {
   "cell_type": "code",
   "execution_count": null,
   "metadata": {},
   "outputs": [],
   "source": [
    "def name(fname,mname,lname):\n",
    "    print(f\"first name:{fname}\")\n",
    "    print(f\"middle name:{mname}\")\n",
    "    print(f\"last name:{lname}\")        #is error ki correction uper hai\n",
    "    "
   ]
  },
  {
   "cell_type": "code",
   "execution_count": null,
   "metadata": {},
   "outputs": [],
   "source": [
    "name(\"john\",mname = \"watson\",\"smith\")"
   ]
  },
  {
   "cell_type": "markdown",
   "metadata": {},
   "source": [
    "# ARBITARY NUMBER OF ARGUMENTS"
   ]
  },
  {
   "cell_type": "code",
   "execution_count": null,
   "metadata": {},
   "outputs": [],
   "source": [
    "# when no of parameters and argumnets are not equal.arguments ziada ho.when you are uncertain about values "
   ]
  },
  {
   "cell_type": "code",
   "execution_count": null,
   "metadata": {},
   "outputs": [],
   "source": [
    "def pizza(size,flavour,*toppings):\n",
    "    print(size,flavour)\n",
    "    print(toppings)    \n",
    "    \n",
    "    "
   ]
  },
  {
   "cell_type": "code",
   "execution_count": null,
   "metadata": {},
   "outputs": [],
   "source": [
    "pizza(\"large\",\"chicken tikka\",\"olives\") # tupple ki form mein extra info jo * k baad likha..end mei comma q k nae pata kitne arguments"
   ]
  },
  {
   "cell_type": "code",
   "execution_count": null,
   "metadata": {},
   "outputs": [],
   "source": [
    "def pizza(size,flavour,*toppings):\n",
    "    print(size,flavour)\n",
    "    print(toppings)    \n",
    "    "
   ]
  },
  {
   "cell_type": "code",
   "execution_count": null,
   "metadata": {},
   "outputs": [],
   "source": [
    "pizza(\"large\",\"bihari\",\"extra cheese\",\"olives\")"
   ]
  },
  {
   "cell_type": "code",
   "execution_count": null,
   "metadata": {},
   "outputs": [],
   "source": [
    "def pizza(size,flavour,*toppings):\n",
    "    print(size,flavour)\n",
    "    print(toppings)    \n",
    "    "
   ]
  },
  {
   "cell_type": "code",
   "execution_count": null,
   "metadata": {},
   "outputs": [],
   "source": [
    "pizza(\"large\",\"malai\") # no additional value then empty tupple"
   ]
  },
  {
   "cell_type": "code",
   "execution_count": null,
   "metadata": {},
   "outputs": [],
   "source": [
    "def car(make,model,**specs):       #jab keyword argument hoga to double steric lagega ...ans dictionary ki form mei\n",
    "    print(make,model)\n",
    "    print(specs)"
   ]
  },
  {
   "cell_type": "raw",
   "metadata": {},
   "source": []
  },
  {
   "cell_type": "code",
   "execution_count": 38,
   "metadata": {},
   "outputs": [
    {
     "name": "stdout",
     "output_type": "stream",
     "text": [
      "toyota prius\n",
      "{'transmission': 'automatic'}\n"
     ]
    }
   ],
   "source": [
    "car(\"toyota\", \"prius\" , transmission = \"automatic\")"
   ]
  },
  {
   "cell_type": "code",
   "execution_count": null,
   "metadata": {},
   "outputs": [],
   "source": [
    "def car(make,model,**specs):       #ab jitne keyword sab dict mei store hongay\n",
    "    print(make,model)\n",
    "    print(specs)"
   ]
  },
  {
   "cell_type": "code",
   "execution_count": 39,
   "metadata": {},
   "outputs": [
    {
     "name": "stdout",
     "output_type": "stream",
     "text": [
      "toyota prius\n",
      "{'transmission': 'automatic', 'power': 'yes'}\n"
     ]
    }
   ],
   "source": [
    "car(\"toyota\", \"prius\" , transmission = \"automatic\",power = \"yes\")"
   ]
  },
  {
   "cell_type": "markdown",
   "metadata": {},
   "source": [
    "# functions as a variable"
   ]
  },
  {
   "cell_type": "code",
   "execution_count": 48,
   "metadata": {},
   "outputs": [],
   "source": [
    "def add(a,b):\n",
    "    c = a + b\n",
    "    return c"
   ]
  },
  {
   "cell_type": "code",
   "execution_count": 49,
   "metadata": {},
   "outputs": [],
   "source": [
    "def sub(a,b):\n",
    "    c = a - b\n",
    "    return c"
   ]
  },
  {
   "cell_type": "code",
   "execution_count": 51,
   "metadata": {},
   "outputs": [],
   "source": [
    "result = add(2,2) + sub(6,3)"
   ]
  },
  {
   "cell_type": "code",
   "execution_count": 52,
   "metadata": {},
   "outputs": [
    {
     "name": "stdout",
     "output_type": "stream",
     "text": [
      "7\n"
     ]
    }
   ],
   "source": [
    "print(result)"
   ]
  },
  {
   "cell_type": "code",
   "execution_count": 54,
   "metadata": {},
   "outputs": [],
   "source": [
    " #function k bahar ho lekin code mei ho to global function k andar ho to local "
   ]
  },
  {
   "cell_type": "code",
   "execution_count": 55,
   "metadata": {},
   "outputs": [
    {
     "ename": "TypeError",
     "evalue": "unsupported operand type(s) for -: 'str' and 'str'",
     "output_type": "error",
     "traceback": [
      "\u001b[1;31m---------------------------------------------------------------------------\u001b[0m",
      "\u001b[1;31mTypeError\u001b[0m                                 Traceback (most recent call last)",
      "\u001b[1;32m<ipython-input-55-ec6d6cea2d58>\u001b[0m in \u001b[0;36m<module>\u001b[1;34m\u001b[0m\n\u001b[1;32m----> 1\u001b[1;33m \u001b[0mresult\u001b[0m \u001b[1;33m=\u001b[0m \u001b[0madd\u001b[0m\u001b[1;33m(\u001b[0m\u001b[1;34m\"nasir\"\u001b[0m\u001b[1;33m,\u001b[0m\u001b[1;34m\"hussain\"\u001b[0m\u001b[1;33m)\u001b[0m \u001b[1;33m+\u001b[0m \u001b[0msub\u001b[0m\u001b[1;33m(\u001b[0m\u001b[1;34m\"ali\"\u001b[0m\u001b[1;33m,\u001b[0m\u001b[1;34m\"hussain\"\u001b[0m\u001b[1;33m)\u001b[0m\u001b[1;33m\u001b[0m\u001b[1;33m\u001b[0m\u001b[0m\n\u001b[0m",
      "\u001b[1;32m<ipython-input-49-ec25e613e63a>\u001b[0m in \u001b[0;36msub\u001b[1;34m(a, b)\u001b[0m\n\u001b[0;32m      1\u001b[0m \u001b[1;32mdef\u001b[0m \u001b[0msub\u001b[0m\u001b[1;33m(\u001b[0m\u001b[0ma\u001b[0m\u001b[1;33m,\u001b[0m\u001b[0mb\u001b[0m\u001b[1;33m)\u001b[0m\u001b[1;33m:\u001b[0m\u001b[1;33m\u001b[0m\u001b[1;33m\u001b[0m\u001b[0m\n\u001b[1;32m----> 2\u001b[1;33m     \u001b[0mc\u001b[0m \u001b[1;33m=\u001b[0m \u001b[0ma\u001b[0m \u001b[1;33m-\u001b[0m \u001b[0mb\u001b[0m\u001b[1;33m\u001b[0m\u001b[1;33m\u001b[0m\u001b[0m\n\u001b[0m\u001b[0;32m      3\u001b[0m     \u001b[1;32mreturn\u001b[0m \u001b[0mc\u001b[0m\u001b[1;33m\u001b[0m\u001b[1;33m\u001b[0m\u001b[0m\n",
      "\u001b[1;31mTypeError\u001b[0m: unsupported operand type(s) for -: 'str' and 'str'"
     ]
    }
   ],
   "source": [
    "result = add(\"nasir\",\"hussain\") + sub(\"ali\",\"hussain\") #plus to hojaega concatenate magar minus nae"
   ]
  },
  {
   "cell_type": "code",
   "execution_count": 56,
   "metadata": {},
   "outputs": [
    {
     "name": "stdout",
     "output_type": "stream",
     "text": [
      "nasirhussain\n"
     ]
    }
   ],
   "source": [
    "result = add(\"nasir\",\"hussain\") \n",
    "print(result)"
   ]
  },
  {
   "cell_type": "code",
   "execution_count": 58,
   "metadata": {},
   "outputs": [],
   "source": [
    "def add(a,b):\n",
    "    c = a + b"
   ]
  },
  {
   "cell_type": "code",
   "execution_count": 59,
   "metadata": {},
   "outputs": [
    {
     "name": "stdout",
     "output_type": "stream",
     "text": [
      "None\n"
     ]
    }
   ],
   "source": [
    "result = add(\"nasir\",\"hussain\") \n",
    "print(result)             #return nae horahi value to kahan se aegi value idhar islie none"
   ]
  },
  {
   "cell_type": "markdown",
   "metadata": {},
   "source": [
    "# while loops"
   ]
  },
  {
   "cell_type": "code",
   "execution_count": 60,
   "metadata": {},
   "outputs": [
    {
     "name": "stdout",
     "output_type": "stream",
     "text": [
      "0\n",
      "1\n",
      "2\n",
      "3\n",
      "4\n",
      "5\n",
      "6\n",
      "7\n",
      "8\n",
      "9\n"
     ]
    }
   ],
   "source": [
    "for a in range (10):   #for loop\n",
    "    print(a)"
   ]
  },
  {
   "cell_type": "code",
   "execution_count": 2,
   "metadata": {},
   "outputs": [
    {
     "name": "stdout",
     "output_type": "stream",
     "text": [
      "0\n",
      "1\n",
      "2\n",
      "3\n",
      "4\n",
      "5\n",
      "6\n",
      "7\n",
      "8\n",
      "9\n"
     ]
    }
   ],
   "source": [
    "a = 0                 #\n",
    "while a <10:\n",
    "    print(a)\n",
    "    a = a+1"
   ]
  },
  {
   "cell_type": "code",
   "execution_count": 1,
   "metadata": {},
   "outputs": [
    {
     "name": "stdout",
     "output_type": "stream",
     "text": [
      "enter a toppingee\n",
      "enter a toppingee\n",
      "enter a toppingred\n",
      "enter a toppingyy\n",
      "enter a toppinguuhh\n",
      "['ee', 'ee', 'red', 'yy', 'uuhh']\n"
     ]
    }
   ],
   "source": [
    "topping = []\n",
    "for a in range (5):\n",
    "    toppings = input(\"enter a topping\")\n",
    "    topping.append(toppings)\n",
    "    \n",
    "print(topping)\n",
    "    "
   ]
  },
  {
   "cell_type": "code",
   "execution_count": 3,
   "metadata": {},
   "outputs": [
    {
     "name": "stdout",
     "output_type": "stream",
     "text": [
      "enter a toppingfwe\n",
      "enter a toppingada\n",
      "enter a toppingvda\n",
      "enter a toppinga\n",
      "enter a toppingq\n",
      "['fwe', 'ada', 'vda', 'a', 'q']\n"
     ]
    }
   ],
   "source": [
    "toppings = []\n",
    "flag = True\n",
    "\n",
    "while flag:\n",
    "    topping = input(\"enter a topping\")\n",
    "    toppings.append(topping)\n",
    "    if topping == \"q\":\n",
    "        flag = False\n",
    "print(toppings)"
   ]
  },
  {
   "cell_type": "code",
   "execution_count": 13,
   "metadata": {},
   "outputs": [
    {
     "name": "stdout",
     "output_type": "stream",
     "text": [
      "enter a toppingy\n",
      "enter a toppingr\n",
      "enter a toppingq\n",
      "['y', 'r']\n"
     ]
    }
   ],
   "source": [
    "toppings = []\n",
    "flag = True\n",
    "\n",
    "while flag:\n",
    "    topping = input(\"enter a topping\")\n",
    "    \n",
    "    if topping == \"q\":\n",
    "        flag = False\n",
    "        break\n",
    "    toppings.append(topping)\n",
    "                                          #aik tareeqa k q p ruk jae aur neeche list mei q na ae break kardo\n",
    "print(toppings)\n"
   ]
  },
  {
   "cell_type": "code",
   "execution_count": 14,
   "metadata": {},
   "outputs": [
    {
     "name": "stdout",
     "output_type": "stream",
     "text": [
      "enter a toppings\n",
      "enter a toppingd\n",
      "enter a toppingf\n",
      "enter a toppingq\n",
      "['s', 'd', 'f']\n"
     ]
    }
   ],
   "source": [
    "toppings = []\n",
    "flag = True\n",
    "\n",
    "while flag:\n",
    "    topping = input(\"enter a topping\")\n",
    "    \n",
    "    if topping == \"q\":\n",
    "        flag = False              #doosra tareeqa k else likh k karo\n",
    "    else:\n",
    "        toppings.append(topping)\n",
    "    \n",
    "print(toppings)\n"
   ]
  },
  {
   "cell_type": "code",
   "execution_count": null,
   "metadata": {},
   "outputs": [],
   "source": [
    "#this is the task to do\n",
    "availableflavours = [\"fajita\",\"tikka\",\"mexican\"]\n",
    "availablesize = [\"large\",\"medium\",\"small\"]\n",
    "availabletoppings = [\"olives\",\"cheese\",\"herbs\"]\n",
    "print(\"pizza order\")\n",
    "print()\n",
    "print()\n",
    "flag = True\n",
    "while flag :\n",
    "    print(availablesize)\n",
    "    size = input(\"enter pizza size\")\n",
    "    if size not in availablesize:\n",
    "        print(f\"{size} not available\")\n",
    "        print(\"plz enter the size again\")\n",
    "        \n",
    "        "
   ]
  },
  {
   "cell_type": "code",
   "execution_count": null,
   "metadata": {},
   "outputs": [],
   "source": []
  },
  {
   "cell_type": "code",
   "execution_count": null,
   "metadata": {},
   "outputs": [],
   "source": []
  },
  {
   "cell_type": "code",
   "execution_count": null,
   "metadata": {},
   "outputs": [],
   "source": []
  },
  {
   "cell_type": "code",
   "execution_count": null,
   "metadata": {},
   "outputs": [],
   "source": []
  },
  {
   "cell_type": "code",
   "execution_count": null,
   "metadata": {},
   "outputs": [],
   "source": []
  }
 ],
 "metadata": {
  "kernelspec": {
   "display_name": "Python 3",
   "language": "python",
   "name": "python3"
  }
 },
 "nbformat": 4,
 "nbformat_minor": 2
}
