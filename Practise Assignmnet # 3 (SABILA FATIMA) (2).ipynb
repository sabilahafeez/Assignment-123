{
 "cells": [
  {
   "cell_type": "markdown",
   "metadata": {},
   "source": [
    "# Q1:"
   ]
  },
  {
   "cell_type": "markdown",
   "metadata": {},
   "source": [
    "Think of at least three kinds of your favorite pizza. Store these pizza names in a list, and then use a for loop to print the name of each pizza."
   ]
  },
  {
   "cell_type": "code",
   "execution_count": 2,
   "metadata": {},
   "outputs": [
    {
     "data": {
      "text/plain": [
       "['creamy', 'chicken tikka', 'tandoori']"
      ]
     },
     "execution_count": 2,
     "metadata": {},
     "output_type": "execute_result"
    }
   ],
   "source": [
    "favourite_pizza = [\"creamy\",\"chicken tikka\",\"tandoori\"]\n",
    "favourite_pizza"
   ]
  },
  {
   "cell_type": "code",
   "execution_count": 3,
   "metadata": {},
   "outputs": [
    {
     "name": "stdout",
     "output_type": "stream",
     "text": [
      "creamy\n",
      "chicken tikka\n",
      "tandoori\n"
     ]
    }
   ],
   "source": [
    "for i in favourite_pizza:\n",
    "    print(i)"
   ]
  },
  {
   "cell_type": "code",
   "execution_count": null,
   "metadata": {},
   "outputs": [],
   "source": []
  },
  {
   "cell_type": "markdown",
   "metadata": {},
   "source": [
    "# Q2"
   ]
  },
  {
   "cell_type": "markdown",
   "metadata": {},
   "source": [
    "Start with your last question , Modify your for loop to print a sentence using the name of the pizza\n",
    "instead of printing just the name of the pizza. For each pizza you should\n",
    "have one line of output containing a simple statement like I like pepperoni\n",
    "pizza."
   ]
  },
  {
   "cell_type": "code",
   "execution_count": 12,
   "metadata": {},
   "outputs": [
    {
     "name": "stdout",
     "output_type": "stream",
     "text": [
      "I like creamy\n",
      "I like chicken tikka\n",
      "I like tandoori\n"
     ]
    }
   ],
   "source": [
    "for a in favourite_pizza:\n",
    "    print(f\"I like {a}\")"
   ]
  },
  {
   "cell_type": "markdown",
   "metadata": {},
   "source": [
    "# Q3:"
   ]
  },
  {
   "cell_type": "markdown",
   "metadata": {},
   "source": [
    "Use a for loop to print the numbers from 1 to 20,\n",
    "inclusive."
   ]
  },
  {
   "cell_type": "code",
   "execution_count": 15,
   "metadata": {},
   "outputs": [
    {
     "name": "stdout",
     "output_type": "stream",
     "text": [
      "1 2 3 4 5 6 7 8 9 10 11 12 13 14 15 16 17 18 19 20 "
     ]
    }
   ],
   "source": [
    "for a in range(1,21):   \n",
    "    print(a,end = \" \")"
   ]
  },
  {
   "cell_type": "code",
   "execution_count": null,
   "metadata": {},
   "outputs": [],
   "source": []
  },
  {
   "cell_type": "markdown",
   "metadata": {},
   "source": [
    "# Q4:"
   ]
  },
  {
   "cell_type": "markdown",
   "metadata": {},
   "source": [
    "Use the third argument of the range() function to make a list\n",
    "of the odd numbers from 1 to 20. Use a for loop to print each number."
   ]
  },
  {
   "cell_type": "code",
   "execution_count": 22,
   "metadata": {},
   "outputs": [
    {
     "name": "stdout",
     "output_type": "stream",
     "text": [
      "List of odd numbers from 1 to 20:\n",
      "1 3 5 7 9 11 13 15 17 19 "
     ]
    }
   ],
   "source": [
    "print(\"List of odd numbers from 1 to 20:\")\n",
    "for i in range(1,21,2):\n",
    "    print(i, end = \" \")"
   ]
  },
  {
   "cell_type": "code",
   "execution_count": null,
   "metadata": {},
   "outputs": [],
   "source": []
  },
  {
   "cell_type": "code",
   "execution_count": null,
   "metadata": {},
   "outputs": [],
   "source": []
  },
  {
   "cell_type": "markdown",
   "metadata": {},
   "source": [
    "# Q5:"
   ]
  },
  {
   "cell_type": "markdown",
   "metadata": {},
   "source": [
    "Make a list of the multiples of 3 from 3 to 30. Use a for loop to\n",
    "print the numbers in your list."
   ]
  },
  {
   "cell_type": "code",
   "execution_count": 19,
   "metadata": {},
   "outputs": [
    {
     "name": "stdout",
     "output_type": "stream",
     "text": [
      "3 6 9 12 15 18 21 24 27 30 "
     ]
    }
   ],
   "source": [
    "multiples = [3,6,9,12,15,18,21,24,27,30]\n",
    "for i in multiples:\n",
    "    print(i,end = \" \")"
   ]
  },
  {
   "cell_type": "code",
   "execution_count": null,
   "metadata": {},
   "outputs": [],
   "source": []
  },
  {
   "cell_type": "code",
   "execution_count": null,
   "metadata": {},
   "outputs": [],
   "source": []
  },
  {
   "cell_type": "markdown",
   "metadata": {},
   "source": [
    "# Q6:"
   ]
  },
  {
   "cell_type": "markdown",
   "metadata": {},
   "source": [
    "A number raised to the third power is called a cube. For example,\n",
    "the cube of 2 is written as 2**3 in Python. Make a list of the first 10 cubes (that\n",
    "is, the cube of each integer from 1 through 10), and use a for loop to print out\n",
    "the value of each cube"
   ]
  },
  {
   "cell_type": "code",
   "execution_count": 1,
   "metadata": {},
   "outputs": [
    {
     "name": "stdout",
     "output_type": "stream",
     "text": [
      "1 8 27 64 125 216 343 512 729 1000 "
     ]
    }
   ],
   "source": [
    "cubes = [1,8,27,64,125,216,343,512,729,1000]\n",
    "for i in cubes:\n",
    "    print(i, end = \" \")"
   ]
  },
  {
   "cell_type": "code",
   "execution_count": null,
   "metadata": {},
   "outputs": [],
   "source": []
  },
  {
   "cell_type": "markdown",
   "metadata": {},
   "source": [
    "# Q7:"
   ]
  },
  {
   "cell_type": "markdown",
   "metadata": {},
   "source": [
    "###### Make a python program that conatains your nine favourite dishes in a list called foods.\n",
    "\n",
    "###### Print the message, The first three items in the list are:. \n",
    "###### Then use a slice to print the first three items from that program’s list.\n",
    "\n",
    "###### Print the message, Three items from the middle of the list are:\n",
    "###### Use a slice to print three items from the middle of the list.\n",
    "\n",
    "###### Print the message, The last three items in the list are:\n",
    "###### Use a slice to print the last three items in the list."
   ]
  },
  {
   "cell_type": "code",
   "execution_count": 31,
   "metadata": {},
   "outputs": [
    {
     "name": "stdout",
     "output_type": "stream",
     "text": [
      "The first three items in the list are:\n",
      "['biyani', 'tikka', 'plau']\n"
     ]
    }
   ],
   "source": [
    "foods = [\"biyani\",\"tikka\",\"plau\",\"pizza\",\"burger\",\"koftay\",\"nihari\",\"tandoori\",\"singaporean rice.\"]\n",
    "print(\"The first three items in the list are:\")\n",
    "print(foods[:3])"
   ]
  },
  {
   "cell_type": "code",
   "execution_count": 32,
   "metadata": {},
   "outputs": [
    {
     "name": "stdout",
     "output_type": "stream",
     "text": [
      "Three items from  the middle of the list are:\n",
      "['pizza', 'burger', 'koftay']\n"
     ]
    }
   ],
   "source": [
    "foods = [\"biyani\",\"tikka\",\"plau\",\"pizza\",\"burger\",\"koftay\",\"nihari\",\"tandoori\",\"singaporean rice.\"]\n",
    "print(\"Three items from  the middle of the list are:\")\n",
    "print(foods[3:6])"
   ]
  },
  {
   "cell_type": "code",
   "execution_count": 34,
   "metadata": {},
   "outputs": [
    {
     "name": "stdout",
     "output_type": "stream",
     "text": [
      "The last three items in the list are:\n",
      "['nihari', 'tandoori', 'singaporean rice.']\n"
     ]
    }
   ],
   "source": [
    "foods = [\"biyani\",\"tikka\",\"plau\",\"pizza\",\"burger\",\"koftay\",\"nihari\",\"tandoori\",\"singaporean rice.\"]\n",
    "print(\"The last three items in the list are:\")\n",
    "print(foods[6:])"
   ]
  },
  {
   "cell_type": "code",
   "execution_count": null,
   "metadata": {},
   "outputs": [],
   "source": []
  },
  {
   "cell_type": "code",
   "execution_count": null,
   "metadata": {},
   "outputs": [],
   "source": []
  },
  {
   "cell_type": "code",
   "execution_count": null,
   "metadata": {},
   "outputs": [],
   "source": []
  },
  {
   "cell_type": "code",
   "execution_count": null,
   "metadata": {},
   "outputs": [],
   "source": []
  },
  {
   "cell_type": "markdown",
   "metadata": {},
   "source": [
    "# Q8:"
   ]
  },
  {
   "cell_type": "markdown",
   "metadata": {},
   "source": [
    "### Start with your program from your last Question8.\n",
    "###### Make a copy of the list of foods, and call it friend_foods.\n",
    "###### Then, do the following:\n",
    "######    Add a new dish to the original list.\n",
    "######    Add a different dish to the list friend_foodss.\n",
    "######    Prove that you have two separate lists. \n",
    "###### Print the message, My favorite pizzas are: and then use a for loop to print the first list. \n",
    "###### Print the message,\n",
    "###### My friend’s favorite foods are:, and then use a for loop to print the second list.\n",
    "    \n",
    "##### NOTE: Make sure each new dish is stored in the appropriate list."
   ]
  },
  {
   "cell_type": "code",
   "execution_count": 36,
   "metadata": {},
   "outputs": [
    {
     "name": "stdout",
     "output_type": "stream",
     "text": [
      "['biyani', 'tikka', 'plau', 'pizza', 'burger', 'koftay', 'nihari', 'tandoori', 'singaporean rice.']\n"
     ]
    }
   ],
   "source": [
    "friend_foods = foods.copy()\n",
    "print(friend_foods)"
   ]
  },
  {
   "cell_type": "code",
   "execution_count": 39,
   "metadata": {},
   "outputs": [
    {
     "name": "stdout",
     "output_type": "stream",
     "text": [
      "['biyani', 'tikka', 'plau', 'pizza', 'burger', 'koftay', 'nihari', 'tandoori', 'singaporean rice.', 'pasta', 'pasta']\n"
     ]
    }
   ],
   "source": [
    "friend_foods.append(\"pasta\")\n",
    "print(friend_foods)"
   ]
  },
  {
   "cell_type": "code",
   "execution_count": 40,
   "metadata": {},
   "outputs": [
    {
     "name": "stdout",
     "output_type": "stream",
     "text": [
      "['haleem']\n"
     ]
    }
   ],
   "source": [
    "friend_foodss = []\n",
    "friend_foodss.append(\"haleem\")\n",
    "print(friend_foodss)"
   ]
  },
  {
   "cell_type": "code",
   "execution_count": 43,
   "metadata": {},
   "outputs": [
    {
     "name": "stdout",
     "output_type": "stream",
     "text": [
      "['biyani', 'tikka', 'plau', 'pizza', 'burger', 'koftay', 'nihari', 'tandoori', 'singaporean rice.', 'pasta', 'pasta']\n",
      "['haleem']\n"
     ]
    }
   ],
   "source": [
    "print(friend_foods)  # these are two seperate lists as shown below.\n",
    "print(friend_foodss) "
   ]
  },
  {
   "cell_type": "code",
   "execution_count": 55,
   "metadata": {},
   "outputs": [
    {
     "name": "stdout",
     "output_type": "stream",
     "text": [
      "My favourite pizzas are:\n",
      ". creamy\n",
      ". chicken tikka\n",
      ". tandoori\n"
     ]
    }
   ],
   "source": [
    "print(\"My favourite pizzas are:\")\n",
    "for i in favourite_pizza:\n",
    "    print(\".\",i)"
   ]
  },
  {
   "cell_type": "code",
   "execution_count": 58,
   "metadata": {},
   "outputs": [
    {
     "name": "stdout",
     "output_type": "stream",
     "text": [
      "My friend's favourite foods are:\n",
      "* biyani\n",
      "* tikka\n",
      "* plau\n",
      "* pizza\n",
      "* burger\n",
      "* koftay\n",
      "* nihari\n",
      "* tandoori\n",
      "* singaporean rice.\n",
      "* pasta\n",
      "* pasta\n"
     ]
    }
   ],
   "source": [
    "print(\"My friend's favourite foods are:\")\n",
    "for i in friend_foods:\n",
    "    print(\"*\",i)"
   ]
  },
  {
   "cell_type": "code",
   "execution_count": null,
   "metadata": {},
   "outputs": [],
   "source": []
  },
  {
   "cell_type": "markdown",
   "metadata": {},
   "source": [
    "# Q9:"
   ]
  },
  {
   "cell_type": "markdown",
   "metadata": {},
   "source": [
    "Take a user input from console line.Store it in a variable called Alien_color.\n",
    "\n",
    "If the alien’s color is red, print a statement that the player just earned 5 points for shooting the alien.\n",
    "\n",
    "If the alien’s color isn’t green, print a statement that the player just earned 10 points.\n",
    "\n",
    "If the alien's color isn't red or green , print a statment :, Alien is no more....."
   ]
  },
  {
   "cell_type": "code",
   "execution_count": 72,
   "metadata": {},
   "outputs": [
    {
     "name": "stdout",
     "output_type": "stream",
     "text": [
      "What is the color of Alien?red\n",
      "the player just earned 5 points for shooting the alien.\n"
     ]
    }
   ],
   "source": [
    "Alien_color = input(\"What is the color of Alien?\")\n",
    "if  Alien_color == \"red\":\n",
    "    print(\"the player just earned 5 points for shooting the alien.\")\n",
    "elif Alien_color != \"green\":\n",
    "    print(\"player just earned ten points\")\n",
    "else:\n",
    "    print(\"Alien is no more....\")"
   ]
  },
  {
   "cell_type": "code",
   "execution_count": 73,
   "metadata": {},
   "outputs": [
    {
     "name": "stdout",
     "output_type": "stream",
     "text": [
      "What is the color of Alien?yellow\n",
      "player just earned ten points\n"
     ]
    }
   ],
   "source": [
    "Alien_color = input(\"What is the color of Alien?\")\n",
    "if  Alien_color == \"red\":\n",
    "    print(\"the player just earned 5 points for shooting the alien.\")\n",
    "elif Alien_color != \"green\":\n",
    "    print(\"player just earned ten points\")\n",
    "else:\n",
    "    print(\"Alien is no more....\")"
   ]
  },
  {
   "cell_type": "code",
   "execution_count": 74,
   "metadata": {},
   "outputs": [
    {
     "name": "stdout",
     "output_type": "stream",
     "text": [
      "What is the color of Alien?green\n",
      "Alien is no more....\n"
     ]
    }
   ],
   "source": [
    "Alien_color = input(\"What is the color of Alien?\")\n",
    "if  Alien_color == \"red\":\n",
    "    print(\"the player just earned 5 points for shooting the alien.\")\n",
    "elif Alien_color != \"green\":\n",
    "    print(\"player just earned ten points\")\n",
    "else:\n",
    "    print(\"Alien is no more....\")"
   ]
  },
  {
   "cell_type": "code",
   "execution_count": null,
   "metadata": {},
   "outputs": [],
   "source": []
  },
  {
   "cell_type": "markdown",
   "metadata": {},
   "source": [
    "# Q10:"
   ]
  },
  {
   "cell_type": "markdown",
   "metadata": {},
   "source": [
    "Write an if-elif-else chain that determines a person’s\n",
    "stage of life. Set a value for the variable age, and then:\n",
    "    \n",
    "•\t If the person is less than 2 years old, print a message that the person is a baby.\n",
    "\n",
    "•\t If the person is at least 2 years old but less than 4, print a message that the person is a toddler.\n",
    "\n",
    "•\t If the person is at least 4 years old but less than 13, print a message that the person is a kid.\n",
    "\n",
    "•\t If the person is at least 13 years old but less than 20, print a message that the person is a teenager.\n",
    "\n",
    "•\t If the person is at least 20 years old but less than 65, print a message that the person is an adult.\n",
    "\n",
    "•\t If the person is age 65 or older, print a message that the person is an elder."
   ]
  },
  {
   "cell_type": "code",
   "execution_count": 2,
   "metadata": {},
   "outputs": [
    {
     "name": "stdout",
     "output_type": "stream",
     "text": [
      "What is your age?70\n",
      "The person is an elder.\n"
     ]
    }
   ],
   "source": [
    "age = int(input(\"What is your age?\"))\n",
    "if age < 2:\n",
    "    print(\"The person is a baby.\")\n",
    "elif age >= 2 and age < 4:\n",
    "    print(\"The person is a toddler.\")\n",
    "elif age >= 4 and age<13:\n",
    "    print(\"The person is a kid.\")\n",
    "elif age >= 13 and age <20:\n",
    "    print(\"The person is an teenager.\")\n",
    "elif age >= 20 and age <65:\n",
    "    print(\"The person is an adult.\")\n",
    "elif age >= 65:\n",
    "    print(\"The person is an elder.\")\n",
    "    "
   ]
  },
  {
   "cell_type": "code",
   "execution_count": null,
   "metadata": {},
   "outputs": [],
   "source": []
  },
  {
   "cell_type": "code",
   "execution_count": null,
   "metadata": {},
   "outputs": [],
   "source": []
  },
  {
   "cell_type": "code",
   "execution_count": null,
   "metadata": {},
   "outputs": [],
   "source": []
  },
  {
   "cell_type": "code",
   "execution_count": null,
   "metadata": {},
   "outputs": [],
   "source": []
  },
  {
   "cell_type": "code",
   "execution_count": null,
   "metadata": {},
   "outputs": [],
   "source": []
  },
  {
   "cell_type": "markdown",
   "metadata": {},
   "source": [
    "# Q11:"
   ]
  },
  {
   "cell_type": "markdown",
   "metadata": {},
   "source": [
    "Do the following to create a program that simulates how websites ensure that everyone has a unique username.\n",
    "\n",
    "•\t Make a list of five or more usernames called current_users.\n",
    "\n",
    "•\t Make another list of five usernames called new_users. \n",
    "Make sure one or two of the new usernames are also in the current_users list.\n",
    "\n",
    "•\t Loop through the new_users list to see if each new username has already been used. \n",
    "If it has, print a message that the person will need to enter a new username. \n",
    "If a username has not been used, print a message saying that the username is available.\n",
    "\n",
    "•\t Make sure your comparison is case insensitive. If 'John' has been used, 'JOHN' should not be accepted."
   ]
  },
  {
   "cell_type": "code",
   "execution_count": 3,
   "metadata": {},
   "outputs": [
    {
     "data": {
      "text/plain": [
       "['Aisha', 'Sobia', 'Sadia', 'Nadia', 'Alina']"
      ]
     },
     "execution_count": 3,
     "metadata": {},
     "output_type": "execute_result"
    }
   ],
   "source": [
    "current_users = [\"Aisha\",\"Sobia\",\"Sadia\",\"Nadia\",\"Alina\"]\n",
    "current_users"
   ]
  },
  {
   "cell_type": "code",
   "execution_count": 4,
   "metadata": {},
   "outputs": [
    {
     "data": {
      "text/plain": [
       "['Shabana', 'Asif', 'Sadia', 'Nadia', 'Hajra']"
      ]
     },
     "execution_count": 4,
     "metadata": {},
     "output_type": "execute_result"
    }
   ],
   "source": [
    "new_users = [\"Shabana\",\"Asif\",\"Sadia\",\"Nadia\",\"Hajra\"]\n",
    "new_users"
   ]
  },
  {
   "cell_type": "code",
   "execution_count": 5,
   "metadata": {},
   "outputs": [
    {
     "name": "stdout",
     "output_type": "stream",
     "text": [
      "Shabana Username is available.\n",
      "Asif Username is available.\n",
      "Sadia You will need to enter a new username.\n",
      "Nadia You will need to enter a new username.\n",
      "Hajra Username is available.\n"
     ]
    }
   ],
   "source": [
    "for i in new_users:\n",
    "    if i in current_users:\n",
    "        print(f\"{i} You will need to enter a new username.\")   \n",
    "    else:\n",
    "        print(f\"{i} Username is available.\")"
   ]
  },
  {
   "cell_type": "code",
   "execution_count": null,
   "metadata": {},
   "outputs": [],
   "source": []
  },
  {
   "cell_type": "markdown",
   "metadata": {},
   "source": [
    "# Q12:"
   ]
  },
  {
   "cell_type": "markdown",
   "metadata": {},
   "source": [
    "Use a dictionary to store information about a person you know.\n",
    "Store their first name, last name, age, and the city in which they live. \n",
    "You should have keys such as first_name, last_name, age, and city. \n",
    "Print each piece of information stored in your dictionary"
   ]
  },
  {
   "cell_type": "code",
   "execution_count": 2,
   "metadata": {},
   "outputs": [
    {
     "name": "stdout",
     "output_type": "stream",
     "text": [
      "{'first_name': 'Hafeez', 'last_name': 'Hussain Ali', 'age': 60, 'city': 'Karachi'}\n"
     ]
    }
   ],
   "source": [
    "information = {\"first_name\":\"Hafeez\",\"last_name\":\"Hussain Ali\",\"age\": 60,\"city\":\"Karachi\"}\n",
    "print(information)"
   ]
  },
  {
   "cell_type": "code",
   "execution_count": null,
   "metadata": {},
   "outputs": [],
   "source": []
  },
  {
   "cell_type": "code",
   "execution_count": null,
   "metadata": {},
   "outputs": [],
   "source": []
  },
  {
   "cell_type": "code",
   "execution_count": null,
   "metadata": {},
   "outputs": [],
   "source": []
  },
  {
   "cell_type": "markdown",
   "metadata": {},
   "source": [
    "# Q13:"
   ]
  },
  {
   "cell_type": "markdown",
   "metadata": {},
   "source": [
    "Starts with your last question 12 , loop through the dictionary’s keys and values.\n",
    "When you’re sure that your loop works, add five more Python terms to your\n",
    "dictionary . When you run your program again, these new words and meanings\n",
    "should automatically be included in the output."
   ]
  },
  {
   "cell_type": "code",
   "execution_count": 3,
   "metadata": {},
   "outputs": [
    {
     "name": "stdout",
     "output_type": "stream",
     "text": [
      "{'first_name': 'Hafeez', 'last_name': 'Hussain Ali', 'age': 60, 'city': 'Karachi'}\n"
     ]
    }
   ],
   "source": [
    "for i in range(1):\n",
    "    print(information)"
   ]
  },
  {
   "cell_type": "code",
   "execution_count": 8,
   "metadata": {},
   "outputs": [
    {
     "name": "stdout",
     "output_type": "stream",
     "text": [
      "{'first_name': 'Hafeez', 'last_name': 'Hussain Ali', 'age': 60, 'city': 'Karachi', 'location': 'Soldier bazar', 'nationality': 'Pakistani', 'religion': 'Islam', 'birth place': 'India', 'nic no': 42201868404}\n"
     ]
    }
   ],
   "source": [
    "information[\"location\"] = \"Soldier bazar\"\n",
    "information[\"nationality\"] = \"Pakistani\"\n",
    "information[\"religion\"] = \"Islam\"\n",
    "information[\"birth place\"] = \"India\"\n",
    "information[\"nic no\"] = 42201868404\n",
    "print(information)\n"
   ]
  },
  {
   "cell_type": "code",
   "execution_count": null,
   "metadata": {},
   "outputs": [],
   "source": []
  },
  {
   "cell_type": "code",
   "execution_count": null,
   "metadata": {},
   "outputs": [],
   "source": []
  },
  {
   "cell_type": "code",
   "execution_count": null,
   "metadata": {},
   "outputs": [],
   "source": []
  },
  {
   "cell_type": "markdown",
   "metadata": {},
   "source": [
    "# Q14:"
   ]
  },
  {
   "cell_type": "markdown",
   "metadata": {},
   "source": [
    "Make a dictionary containing three major rivers and the country\n",
    "each river runs through. One key-value pair might be 'nile': 'egypt'.\n",
    "    \n",
    "    \n",
    "•\t Use a loop to print a sentence about each river, such as The Nile runs\n",
    "through Egypt.\n",
    "\n",
    "NOTE: use upper case through keys and values."
   ]
  },
  {
   "cell_type": "code",
   "execution_count": 11,
   "metadata": {},
   "outputs": [
    {
     "name": "stdout",
     "output_type": "stream",
     "text": [
      "{'Nile': 'Egypt', 'Amazon river': 'Brazil', 'Mississipi': 'Mexico'}\n"
     ]
    }
   ],
   "source": [
    "major_rivers = {\"Nile\":\"Egypt\",\"Amazon river\":\"Brazil\",\"Mississipi\":\"Mexico\"}\n",
    "print(major_rivers)"
   ]
  },
  {
   "cell_type": "code",
   "execution_count": 13,
   "metadata": {},
   "outputs": [
    {
     "name": "stdout",
     "output_type": "stream",
     "text": [
      "The NILE runs through EGYPT\n",
      "The AMAZON RIVER runs through BRAZIL\n",
      "The MISSISSIPI runs through MEXICO\n"
     ]
    }
   ],
   "source": [
    "for key,value in major_rivers.items():\n",
    "    print(f\"The {key.upper()} runs through {value.upper()}\" )"
   ]
  },
  {
   "cell_type": "code",
   "execution_count": null,
   "metadata": {},
   "outputs": [],
   "source": []
  },
  {
   "cell_type": "markdown",
   "metadata": {},
   "source": [
    "# Q15:"
   ]
  },
  {
   "cell_type": "markdown",
   "metadata": {},
   "source": [
    "Make several dictionaries, where the name of each dictionary is the\n",
    "name of a pet. In each dictionary, include the kind of animal and the owner’s\n",
    "name. Store these dictionaries in a list called pets. Next, loop through your list\n",
    "and as you do print everything you know about each pet."
   ]
  },
  {
   "cell_type": "code",
   "execution_count": 13,
   "metadata": {},
   "outputs": [
    {
     "name": "stdout",
     "output_type": "stream",
     "text": [
      "{'kind of animal': ' mammals ', \"owner's name\": 'John'}\n",
      "{'kind of animal': 'mammals', \"owner's name\": 'Maria'}\n",
      "{'kind of animal': 'bird', \"owner's name\": 'Mark'}\n",
      "{'kind of animal': 'bird', \"owners's name\": 'Jane'}\n"
     ]
    }
   ],
   "source": [
    "puppy = {\"kind of animal\":\" mammals \",\n",
    "         \"owner's name\":\"John\"}\n",
    "cat = {\"kind of animal\":\"mammals\",\n",
    "       \"owner's name\":\"Maria\"}   \n",
    "pigeon = {\"kind of animal\":\"bird\",\n",
    "          \"owner's name\":\"Mark\"}\n",
    "parrot = {\"kind of animal\":\"bird\",\n",
    "          \"owners's name\":\"Jane\"}\n",
    "pets = [puppy,cat,pigeon,parrot]\n",
    "for i in pets:\n",
    "    print(i)"
   ]
  },
  {
   "cell_type": "code",
   "execution_count": null,
   "metadata": {},
   "outputs": [],
   "source": []
  }
 ],
 "metadata": {
  "kernelspec": {
   "display_name": "Python 3",
   "language": "python",
   "name": "python3"
  },
  "language_info": {
   "codemirror_mode": {
    "name": "ipython",
    "version": 3
   },
   "file_extension": ".py",
   "mimetype": "text/x-python",
   "name": "python",
   "nbconvert_exporter": "python",
   "pygments_lexer": "ipython3",
   "version": "3.7.3"
  }
 },
 "nbformat": 4,
 "nbformat_minor": 2
}
